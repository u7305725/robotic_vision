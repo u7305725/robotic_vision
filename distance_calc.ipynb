{
 "cells": [
  {
   "cell_type": "code",
   "execution_count": null,
   "id": "5fcdcd99-5129-4c75-97b2-6a16330fdb4b",
   "metadata": {},
   "outputs": [],
   "source": [
    "#calculate distance from robot to object using two images shot in two different direction\n",
    "'''\n",
    "VGG_KR_FROM_P Extract K, R from camera matrix.\n",
    "\n",
    "[K,R,C] = VGG_KR_FROM_P(P [,noscale]) finds K, R, C such that P = K*R*[eye(3) -C].\n",
    "It is det(R)==1.\n",
    "K is scaled so that K(3,3)==1 and K(1,1)>0. Optional parameter noscale prevents this.\n",
    "\n",
    "Works also generally for any P of size N-by-(N+1).\n",
    "Works also for P of size N-by-N, then C is not computed.\n",
    "'''\n",
    "\n",
    "\n",
    "def vgg_rq(S):\n",
    "    S = S.T\n",
    "    [Q, U] = np.linalg.qr(S[::-1, ::-1], mode='complete')\n",
    "\n",
    "    Q = Q.T\n",
    "    Q = Q[::-1, ::-1]\n",
    "    U = U.T\n",
    "    U = U[::-1, ::-1]\n",
    "    if np.linalg.det(Q) < 0:\n",
    "        U[:, 0] = -U[:, 0]\n",
    "        Q[0, :] = -Q[0, :]\n",
    "    return U, Q\n",
    "\n",
    "\n",
    "def vgg_KR_from_P(P, noscale=True):\n",
    "    \"\"\"\n",
    "    Extract K, R, C From P\n",
    "    P = K[R | t] = K [R | -RC]\n",
    "    \"\"\"\n",
    "    N = P.shape[0]\n",
    "    H = P[:, 0:N]\n",
    "    print(N, '|', H)\n",
    "    [K, R] = vgg_rq(H)\n",
    "    if noscale:\n",
    "        K = K / K[N-1, N-1]\n",
    "        if K[0, 0] < 0:\n",
    "            D = np.diag([-1, -1, np.ones([1, N-2])])\n",
    "            K = K @ D\n",
    "            R = D @ R\n",
    "\n",
    "            test = K*R\n",
    "            assert (test/test[0, 0] - H/H[0, 0]).all() <= 1e-07\n",
    "\n",
    "    C = np.linalg.inv(-P[:, 0:N]) @ P[:, -1]\n",
    "    return K, R, C"
   ]
  }
 ],
 "metadata": {
  "kernelspec": {
   "display_name": "Python 3 (ipykernel)",
   "language": "python",
   "name": "python3"
  },
  "language_info": {
   "codemirror_mode": {
    "name": "ipython",
    "version": 3
   },
   "file_extension": ".py",
   "mimetype": "text/x-python",
   "name": "python",
   "nbconvert_exporter": "python",
   "pygments_lexer": "ipython3",
   "version": "3.11.5"
  }
 },
 "nbformat": 4,
 "nbformat_minor": 5
}
