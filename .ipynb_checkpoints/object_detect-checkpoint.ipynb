{
 "cells": [
  {
   "cell_type": "code",
   "execution_count": 1,
   "id": "ead75deb-4cdd-4aca-a7fa-c922bf09ba8f",
   "metadata": {
    "tags": []
   },
   "outputs": [],
   "source": [
    "##try yolov10, in your own pc\n",
    "# conda create -n yolov10 python=3.9\n",
    "# conda activate yolov10\n",
    "# !pip install -r requirements.txt\n",
    "# !pip install -e .\n",
    "# python app.py\n",
    "# # Please visit http://127.0.0.1:7860"
   ]
  },
  {
   "cell_type": "code",
   "execution_count": null,
   "id": "aab6dd25-a99f-4291-8468-d34aea739ea8",
   "metadata": {},
   "outputs": [],
   "source": []
  }
 ],
 "metadata": {
  "kernelspec": {
   "display_name": "Python 3 (ipykernel)",
   "language": "python",
   "name": "python3"
  },
  "language_info": {
   "codemirror_mode": {
    "name": "ipython",
    "version": 3
   },
   "file_extension": ".py",
   "mimetype": "text/x-python",
   "name": "python",
   "nbconvert_exporter": "python",
   "pygments_lexer": "ipython3",
   "version": "3.11.5"
  }
 },
 "nbformat": 4,
 "nbformat_minor": 5
}
